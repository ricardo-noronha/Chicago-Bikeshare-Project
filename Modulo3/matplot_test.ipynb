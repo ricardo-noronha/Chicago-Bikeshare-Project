{
 "cells": [
  {
   "cell_type": "code",
   "execution_count": 17,
   "metadata": {},
   "outputs": [],
   "source": [
    "import pandas as pd\n",
    "import matplotlib.pyplot as plt\n",
    "\n",
    "% matplotlib inline\n",
    "\n",
    "#import data\n",
    "df = pd.read_csv('cancer-data.csv')"
   ]
  },
  {
   "cell_type": "code",
   "execution_count": 18,
   "metadata": {},
   "outputs": [
    {
     "name": "stdout",
     "output_type": "stream",
     "text": [
      "<class 'pandas.core.frame.DataFrame'>\n",
      "RangeIndex: 569 entries, 0 to 568\n",
      "Data columns (total 32 columns):\n",
      "id                        569 non-null int64\n",
      "diagnosis                 569 non-null object\n",
      "radius_mean               569 non-null float64\n",
      "texture_mean              548 non-null float64\n",
      "perimeter_mean            569 non-null float64\n",
      "area_mean                 569 non-null float64\n",
      "smoothness_mean           521 non-null float64\n",
      "compactness_mean          569 non-null float64\n",
      "concavity_mean            569 non-null float64\n",
      "concave_points_mean       569 non-null float64\n",
      "symmetry_mean             504 non-null float64\n",
      "fractal_dimension_mean    569 non-null float64\n",
      "radius_SE                 569 non-null float64\n",
      "texture_SE                548 non-null float64\n",
      "perimeter_SE              569 non-null float64\n",
      "area_SE                   569 non-null float64\n",
      "smoothness_SE             521 non-null float64\n",
      "compactness_SE            569 non-null float64\n",
      "concavity_SE              569 non-null float64\n",
      "concave_points_SE         569 non-null float64\n",
      "symmetry_SE               504 non-null float64\n",
      "fractal_dimension_SE      569 non-null float64\n",
      "radius_max                569 non-null float64\n",
      "texture_max               548 non-null float64\n",
      "perimeter_max             569 non-null float64\n",
      "area_max                  569 non-null float64\n",
      "smoothness_max            521 non-null float64\n",
      "compactness_max           569 non-null float64\n",
      "concavity_max             569 non-null float64\n",
      "concave_points_max        569 non-null float64\n",
      "symmetry_max              504 non-null float64\n",
      "fractal_dimension_max     569 non-null float64\n",
      "dtypes: float64(30), int64(1), object(1)\n",
      "memory usage: 142.3+ KB\n",
      "<class 'pandas.core.frame.DataFrame'>\n",
      "RangeIndex: 569 entries, 0 to 568\n",
      "Data columns (total 32 columns):\n",
      "id                        569 non-null int64\n",
      "diagnosis                 569 non-null object\n",
      "radius_mean               569 non-null float64\n",
      "texture_mean              569 non-null float64\n",
      "perimeter_mean            569 non-null float64\n",
      "area_mean                 569 non-null float64\n",
      "smoothness_mean           569 non-null float64\n",
      "compactness_mean          569 non-null float64\n",
      "concavity_mean            569 non-null float64\n",
      "concave_points_mean       569 non-null float64\n",
      "symmetry_mean             569 non-null float64\n",
      "fractal_dimension_mean    569 non-null float64\n",
      "radius_SE                 569 non-null float64\n",
      "texture_SE                569 non-null float64\n",
      "perimeter_SE              569 non-null float64\n",
      "area_SE                   569 non-null float64\n",
      "smoothness_SE             569 non-null float64\n",
      "compactness_SE            569 non-null float64\n",
      "concavity_SE              569 non-null float64\n",
      "concave_points_SE         569 non-null float64\n",
      "symmetry_SE               569 non-null float64\n",
      "fractal_dimension_SE      569 non-null float64\n",
      "radius_max                569 non-null float64\n",
      "texture_max               569 non-null float64\n",
      "perimeter_max             569 non-null float64\n",
      "area_max                  569 non-null float64\n",
      "smoothness_max            569 non-null float64\n",
      "compactness_max           569 non-null float64\n",
      "concavity_max             569 non-null float64\n",
      "concave_points_max        569 non-null float64\n",
      "symmetry_max              569 non-null float64\n",
      "fractal_dimension_max     569 non-null float64\n",
      "dtypes: float64(30), int64(1), object(1)\n",
      "memory usage: 142.3+ KB\n"
     ]
    }
   ],
   "source": [
    "#cleaning up data\n",
    "df.info()\n",
    "\n",
    "df['texture_mean'].fillna(df['texture_mean'].mean(), inplace=True)\n",
    "df['smoothness_mean'].fillna(df['smoothness_mean'].mean(), inplace=True)\n",
    "df['symmetry_mean'].fillna(df['symmetry_mean'].mean(), inplace=True)\n",
    "df['texture_SE'].fillna(df['texture_SE'].mean(), inplace=True)\n",
    "df['smoothness_SE'].fillna(df['smoothness_SE'].mean(), inplace=True)\n",
    "df['symmetry_SE'].fillna(df['symmetry_SE'].mean(), inplace=True)\n",
    "df['texture_max'].fillna(df['texture_max'].mean(), inplace=True)\n",
    "df['smoothness_max'].fillna(df['smoothness_max'].mean(), inplace=True)\n",
    "df['symmetry_max'].fillna(df['symmetry_max'].mean(), inplace=True)\n",
    "\n",
    "df.info()"
   ]
  },
  {
   "cell_type": "code",
   "execution_count": 19,
   "metadata": {},
   "outputs": [
    {
     "data": {
      "text/plain": [
       "5"
      ]
     },
     "execution_count": 19,
     "metadata": {},
     "output_type": "execute_result"
    }
   ],
   "source": [
    "sum(df.duplicated())"
   ]
  },
  {
   "cell_type": "code",
   "execution_count": 20,
   "metadata": {},
   "outputs": [],
   "source": [
    "# elimine dados duplicados\n",
    "df.drop_duplicates(inplace=True)\n"
   ]
  },
  {
   "cell_type": "code",
   "execution_count": 21,
   "metadata": {},
   "outputs": [
    {
     "data": {
      "text/plain": [
       "0"
      ]
     },
     "execution_count": 21,
     "metadata": {},
     "output_type": "execute_result"
    }
   ],
   "source": [
    "sum(df.duplicated())"
   ]
  },
  {
   "cell_type": "code",
   "execution_count": 22,
   "metadata": {},
   "outputs": [
    {
     "data": {
      "text/plain": [
       "count     210.000000\n",
       "mean      976.582857\n",
       "std       365.494289\n",
       "min       361.600000\n",
       "25%       706.850000\n",
       "50%       932.000000\n",
       "75%      1200.750000\n",
       "max      2501.000000\n",
       "Name: area_mean, dtype: float64"
      ]
     },
     "execution_count": 22,
     "metadata": {},
     "output_type": "execute_result"
    }
   ],
   "source": [
    "# process data\n",
    "df_m = df[df['diagnosis'] == 'M']\n",
    "df_m['area_mean'].describe()"
   ]
  },
  {
   "cell_type": "code",
   "execution_count": 23,
   "metadata": {},
   "outputs": [
    {
     "data": {
      "text/plain": [
       "count    354.000000\n",
       "mean     462.712429\n",
       "std      134.769158\n",
       "min      143.500000\n",
       "25%      374.975000\n",
       "50%      458.150000\n",
       "75%      551.550000\n",
       "max      992.100000\n",
       "Name: area_mean, dtype: float64"
      ]
     },
     "execution_count": 23,
     "metadata": {},
     "output_type": "execute_result"
    }
   ],
   "source": [
    "# process data\n",
    "df_b = df[df['diagnosis'] == 'B']\n",
    "df_b['area_mean'].describe()"
   ]
  },
  {
   "cell_type": "code",
   "execution_count": 24,
   "metadata": {},
   "outputs": [
    {
     "name": "stdout",
     "output_type": "stream",
     "text": [
      "Thea mean area of malignant tumors is 976.5829 while that of benign tumors is 462.7124\n"
     ]
    }
   ],
   "source": [
    "# public result\n",
    "print('Thea mean area of malignant tumors is {0:.4f} while that of benign tumors is {1:.4f}'.format(df_m['area_mean'].mean(), df_b['area_mean'].mean()))"
   ]
  },
  {
   "cell_type": "code",
   "execution_count": 27,
   "metadata": {},
   "outputs": [
    {
     "data": {
      "image/png": "[encoded data removed]",
      "text/plain": [
       "<Figure size 576x432 with 1 Axes>"
      ]
     },
     "metadata": {
      "needs_background": "light"
     },
     "output_type": "display_data"
    }
   ],
   "source": [
    "# plot graph\n",
    "fig, ax = plt.subplots(figsize=(8,6))\n",
    "ax.hist(df_b['area_mean'], alpha=0.5, label='benign')\n",
    "ax.hist(df_m['area_mean'], alpha=0.5, label='malignant')\n",
    "ax.set_title('Distributions of Benign and Malignant Tumor Areas')\n",
    "ax.set_xlabel('Area')\n",
    "ax.set_ylabel('Count')\n",
    "ax.legend(loc='upper right')\n",
    "plt.show()"
   ]
  },
  {
   "cell_type": "code",
   "execution_count": null,
   "metadata": {},
   "outputs": [],
   "source": []
  },
  {
   "cell_type": "code",
   "execution_count": null,
   "metadata": {},
   "outputs": [],
   "source": []
  }
 ],
 "metadata": {
  "kernelspec": {
   "display_name": "Python 3",
   "language": "python",
   "name": "python3"
  },
  "language_info": {
   "codemirror_mode": {
    "name": "ipython",
    "version": 3
   },
   "file_extension": ".py",
   "mimetype": "text/x-python",
   "name": "python",
   "nbconvert_exporter": "python",
   "pygments_lexer": "ipython3",
   "version": "3.6.6"
  }
 },
 "nbformat": 4,
 "nbformat_minor": 2
}
